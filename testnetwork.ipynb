{
 "cells": [
  {
   "cell_type": "code",
   "execution_count": 14,
   "metadata": {},
   "outputs": [],
   "source": [
    "from brian2 import *\n",
    "import csv\n",
    "import numpy as np"
   ]
  },
  {
   "cell_type": "code",
   "execution_count": 18,
   "metadata": {},
   "outputs": [],
   "source": [
    "#Test read one file\n",
    "results = []\n",
    "with open(\"dataset/left_hand_A2_V1.csv\") as csvfile:\n",
    "    reader = csv.reader(csvfile, quoting=csv.QUOTE_NONNUMERIC) # change contents to floats\n",
    "    for row in reader: # each row is a list\n",
    "        results.append(row)\n",
    "results = np.array(results).astype(int)"
   ]
  },
  {
   "cell_type": "code",
   "execution_count": 20,
   "metadata": {},
   "outputs": [
    {
     "data": {
      "text/plain": [
       "(30, 2500)"
      ]
     },
     "execution_count": 20,
     "metadata": {},
     "output_type": "execute_result"
    }
   ],
   "source": [
    "results.shape"
   ]
  },
  {
   "cell_type": "code",
   "execution_count": 2,
   "metadata": {},
   "outputs": [
    {
     "name": "stdout",
     "output_type": "stream",
     "text": [
      "[[1. 3.]\n",
      " [2. 4.]\n",
      " [1. 3.]\n",
      " [2. 4.]] mV\n"
     ]
    }
   ],
   "source": [
    "ta2d = TimedArray([[1, 2], [3, 4], [5, 6]]*mV, dt=0.1*ms)\n",
    "G = NeuronGroup(4, 'v = ta2d(t, i%2) : volt')\n",
    "mon = StateMonitor(G, 'v', record=True)\n",
    "net = Network(G, mon)\n",
    "net.run(0.2*ms)  \n",
    "\n",
    "print(mon.v[:])"
   ]
  }
 ],
 "metadata": {
  "kernelspec": {
   "display_name": "Python 3",
   "language": "python",
   "name": "python3"
  },
  "language_info": {
   "codemirror_mode": {
    "name": "ipython",
    "version": 3
   },
   "file_extension": ".py",
   "mimetype": "text/x-python",
   "name": "python",
   "nbconvert_exporter": "python",
   "pygments_lexer": "ipython3",
   "version": "3.11.0"
  },
  "orig_nbformat": 4,
  "vscode": {
   "interpreter": {
    "hash": "eefc8362b6bf268c0905eef10a152df1133b6a36fc8329a33a771e524b51e8ab"
   }
  }
 },
 "nbformat": 4,
 "nbformat_minor": 2
}
