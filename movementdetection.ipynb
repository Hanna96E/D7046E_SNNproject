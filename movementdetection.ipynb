{
 "cells": [
  {
   "cell_type": "code",
   "execution_count": 52,
   "metadata": {},
   "outputs": [],
   "source": [
    "import numpy as np\n",
    "import cv2\n",
    "import csv"
   ]
  },
  {
   "cell_type": "code",
   "execution_count": 53,
   "metadata": {},
   "outputs": [],
   "source": [
    "def motion_detector(video_file=0, compress_to_size=(100,100), show_video=False, frame_step=2, max_frames=np.inf, output_file=\"\"):\n",
    "  \n",
    "  frame_count = 0\n",
    "  previous_frame = None\n",
    "  cap = cv2.VideoCapture(video_file)\n",
    "  preprocessed_file = []\n",
    "  \n",
    "  while True:\n",
    "    frame_count += 1\n",
    "\n",
    "    # 1. Load image; convert to RGB\n",
    "    ret, frame = cap.read()\n",
    "\n",
    "    # If video check when end or ESC is hit\n",
    "    if frame is None or cv2.waitKey(30) == 27 or frame_count > max_frames:\n",
    "      print(frame_count - 1)\n",
    "      cap.release()\n",
    "      \n",
    "      if show_video:\n",
    "        cv2.destroyAllWindows()\n",
    "\n",
    "      # if a output file is given save the file\n",
    "      if(output_file != \"\"):\n",
    "        f = open(output_file, 'w')\n",
    "        for item in preprocessed_file:\n",
    "            f.write(','.join([str(x) for x in item]) + '\\n')\n",
    "        f.close()\n",
    "\n",
    "      break\n",
    "\n",
    "    frame = np.flip(frame, axis=1)\n",
    "    frame = cv2.resize(frame, compress_to_size)\n",
    "    frame = cv2.cvtColor(src=frame, code=cv2.COLOR_BGR2RGB)\n",
    "\n",
    "    \n",
    "    if ((frame_count % frame_step) == 0):\n",
    "\n",
    "      # 2. Prepare image; grayscale and blur\n",
    "      prepared_frame = cv2.cvtColor(frame, cv2.COLOR_BGR2GRAY)\n",
    "      prepared_frame = cv2.GaussianBlur(src=prepared_frame, ksize=(5,5), sigmaX=0)\n",
    "      \n",
    "      # 3. Set previous frame and continue if there is None\n",
    "      if (previous_frame is None):\n",
    "        # First frame; there is no previous one yet\n",
    "        previous_frame = prepared_frame\n",
    "        continue\n",
    "      \n",
    "      # calculate difference and update previous frame\n",
    "      diff_frame = cv2.absdiff(src1=previous_frame, src2=prepared_frame)\n",
    "      previous_frame = prepared_frame\n",
    "\n",
    "      # 4. Dilute the image a bit to make differences more seeable; more suitable for contour detection\n",
    "      # kernel = np.ones((5, 5))\n",
    "      # diff_frame = cv2.dilate(diff_frame, kernel, 1)\n",
    "\n",
    "      # 5. Only take different areas that are different enough (>20 / 255)\n",
    "      thresh_frame = cv2.threshold(src=diff_frame, thresh=20, maxval=255, type=cv2.THRESH_BINARY)[1]\n",
    "\n",
    "      # Save every frame\n",
    "      preprocessed_file.append((thresh_frame.flatten()/255).astype(int))\n",
    "\n",
    "      if(show_video):\n",
    "        both_frame = np.concatenate((prepared_frame, thresh_frame), axis=1)\n",
    "        cv2.imshow('webcam', both_frame)"
   ]
  },
  {
   "cell_type": "code",
   "execution_count": 54,
   "metadata": {},
   "outputs": [
    {
     "name": "stdout",
     "output_type": "stream",
     "text": [
      "52\n",
      "[[0 0 0 ... 0 0 0]\n",
      " [0 0 0 ... 0 0 0]\n",
      " [0 0 0 ... 0 0 0]\n",
      " ...\n",
      " [0 0 0 ... 0 0 0]\n",
      " [0 0 0 ... 0 0 0]\n",
      " [0 0 0 ... 0 0 0]]\n"
     ]
    }
   ],
   "source": [
    "# motion_detector(video_file='videos/right_hand_A2_V1.mp4', show_video=True, compress_to_size=(50,50), max_frames=90, output_file=\"test.csv\")"
   ]
  }
 ],
 "metadata": {
  "kernelspec": {
   "display_name": "Python 3",
   "language": "python",
   "name": "python3"
  },
  "language_info": {
   "codemirror_mode": {
    "name": "ipython",
    "version": 3
   },
   "file_extension": ".py",
   "mimetype": "text/x-python",
   "name": "python",
   "nbconvert_exporter": "python",
   "pygments_lexer": "ipython3",
   "version": "3.11.0"
  },
  "orig_nbformat": 4,
  "vscode": {
   "interpreter": {
    "hash": "eefc8362b6bf268c0905eef10a152df1133b6a36fc8329a33a771e524b51e8ab"
   }
  }
 },
 "nbformat": 4,
 "nbformat_minor": 2
}
