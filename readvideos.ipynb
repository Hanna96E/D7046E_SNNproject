{
 "cells": [
  {
   "cell_type": "code",
   "execution_count": 9,
   "metadata": {},
   "outputs": [],
   "source": [
    "import os"
   ]
  },
  {
   "cell_type": "code",
   "execution_count": 10,
   "metadata": {},
   "outputs": [],
   "source": [
    "%run movementdetection.ipynb"
   ]
  },
  {
   "cell_type": "code",
   "execution_count": 11,
   "metadata": {},
   "outputs": [],
   "source": [
    "def read_videos(video_dir_path, data_dir_path):\n",
    "    f = []\n",
    "    for (dirpath, dirnames, filenames) in os.walk(video_dir_path):\n",
    "        for file in filenames:\n",
    "            motion_detector(video_file=f'{video_dir_path}/{file}', show_video=True, compress_to_size=(10,10), output_file=f'{data_dir_path}/{os.path.splitext(file)[0]}.csv', thresh_hold=10)"
   ]
  },
  {
   "cell_type": "code",
   "execution_count": 12,
   "metadata": {},
   "outputs": [],
   "source": [
    "read_videos(\"videos\", \"dataset\")"
   ]
  }
 ],
 "metadata": {
  "kernelspec": {
   "display_name": "Python 3",
   "language": "python",
   "name": "python3"
  },
  "language_info": {
   "codemirror_mode": {
    "name": "ipython",
    "version": 3
   },
   "file_extension": ".py",
   "mimetype": "text/x-python",
   "name": "python",
   "nbconvert_exporter": "python",
   "pygments_lexer": "ipython3",
   "version": "3.11.0"
  },
  "orig_nbformat": 4,
  "vscode": {
   "interpreter": {
    "hash": "eefc8362b6bf268c0905eef10a152df1133b6a36fc8329a33a771e524b51e8ab"
   }
  }
 },
 "nbformat": 4,
 "nbformat_minor": 2
}
