{
 "cells": [
  {
   "cell_type": "code",
   "execution_count": 13,
   "metadata": {},
   "outputs": [],
   "source": [
    "import os"
   ]
  },
  {
   "cell_type": "code",
   "execution_count": 14,
   "metadata": {},
   "outputs": [],
   "source": [
    "%run movementdetection.ipynb"
   ]
  },
  {
   "cell_type": "code",
   "execution_count": 15,
   "metadata": {},
   "outputs": [],
   "source": [
    "def read_videos(video_dir_path, data_dir_path):\n",
    "    f = []\n",
    "    for (dirpath, dirnames, filenames) in os.walk(video_dir_path):\n",
    "        for file in filenames:\n",
    "            motion_detector(video_file=f'{video_dir_path}/{file}', show_video=False, compress_to_size=(50,50), output_file=f'{data_dir_path}/{os.path.splitext(file)[0]}.csv')"
   ]
  },
  {
   "cell_type": "code",
   "execution_count": 16,
   "metadata": {},
   "outputs": [
    {
     "name": "stdout",
     "output_type": "stream",
     "text": [
      "47\n",
      "53\n",
      "57\n",
      "60\n",
      "57\n",
      "63\n",
      "45\n",
      "54\n",
      "56\n",
      "54\n",
      "71\n",
      "71\n",
      "88\n",
      "87\n",
      "63\n",
      "37\n",
      "41\n",
      "25\n",
      "43\n",
      "45\n",
      "64\n",
      "42\n",
      "37\n",
      "44\n",
      "43\n",
      "52\n",
      "51\n",
      "63\n",
      "55\n",
      "49\n",
      "54\n",
      "68\n",
      "82\n",
      "78\n",
      "67\n",
      "26\n",
      "32\n",
      "29\n",
      "38\n",
      "46\n"
     ]
    }
   ],
   "source": [
    "read_videos(\"videos\", \"dataset\")"
   ]
  }
 ],
 "metadata": {
  "kernelspec": {
   "display_name": "Python 3",
   "language": "python",
   "name": "python3"
  },
  "language_info": {
   "codemirror_mode": {
    "name": "ipython",
    "version": 3
   },
   "file_extension": ".py",
   "mimetype": "text/x-python",
   "name": "python",
   "nbconvert_exporter": "python",
   "pygments_lexer": "ipython3",
   "version": "3.11.0"
  },
  "orig_nbformat": 4,
  "vscode": {
   "interpreter": {
    "hash": "eefc8362b6bf268c0905eef10a152df1133b6a36fc8329a33a771e524b51e8ab"
   }
  }
 },
 "nbformat": 4,
 "nbformat_minor": 2
}
